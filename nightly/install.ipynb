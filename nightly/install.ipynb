{
  "cells": [
    {
      "cell_type": "markdown",
      "metadata": {
        "id": "view-in-github",
        "colab_type": "text"
      },
      "source": [
        "<a href=\"https://colab.research.google.com/github/wxgnxx/BPB-Worker-Panel/blob/main/nightly/install.ipynb\" target=\"_parent\"><img src=\"https://colab.research.google.com/assets/colab-badge.svg\" alt=\"Open In Colab\"/></a>"
      ]
    },
    {
      "cell_type": "code",
      "execution_count": null,
      "metadata": {
        "id": "SaAJk33ppFw1"
      },
      "outputs": [],
      "source": [
        "%cd /content\n",
        "from google.colab import drive\n",
        "drive.mount('/content/drive')\n",
        "\n",
        "%env PYTHONDONTWRITEBYTECODE=1\n",
        "%env TF_CPP_MIN_LOG_LEVEL=1\n",
        "!apt-get -y install -qq aria2 libcairo2-dev pkg-config python3-dev\n",
        "\n",
        "!git clone -b v2.6 https://github.com/camenduru/stable-diffusion-webui /content/drive/MyDrive/stable-diffusion-webui-colab/nightly/stable-diffusion-webui\n",
        "!git -C /content/drive/MyDrive/stable-diffusion-webui-colab/nightly/stable-diffusion-webui checkout -f v2.6\n",
        "!git -C /content/drive/MyDrive/stable-diffusion-webui-colab/nightly/stable-diffusion-webui reset --hard\n",
        "!git -C /content/drive/MyDrive/stable-diffusion-webui-colab/nightly/stable-diffusion-webui pull origin v2.6\n",
        "\n",
        "!rm -rf /content/drive/MyDrive/stable-diffusion-webui-colab/nightly/stable-diffusion-webui/extensions/sd-webui-deforum\n",
        "!git clone https://github.com/deforum-art/sd-webui-deforum /content/drive/MyDrive/stable-diffusion-webui-colab/nightly/stable-diffusion-webui/extensions/sd-webui-deforum\n",
        "!rm -rf /content/drive/MyDrive/stable-diffusion-webui-colab/nightly/stable-diffusion-webui/extensions/sd-webui-controlnet\n",
        "!git clone https://github.com/Mikubill/sd-webui-controlnet /content/drive/MyDrive/stable-diffusion-webui-colab/nightly/stable-diffusion-webui/extensions/sd-webui-controlnet\n",
        "\n",
        "%cd /content/drive/MyDrive/stable-diffusion-webui-colab/nightly/stable-diffusion-webui\n",
        "\n",
        "!aria2c --console-log-level=error -c -x 16 -s 16 -k 1M https://huggingface.co/ckpt/sd15/resolve/main/v1-5-pruned-emaonly.ckpt -d /content/drive/MyDrive/stable-diffusion-webui-colab/nightly/stable-diffusion-webui/models/Stable-diffusion -o v1-5-pruned-emaonly.ckpt\n",
        "\n",
        "!sed -i -e 's/    start()/    #start()/g' /content/drive/MyDrive/stable-diffusion-webui-colab/nightly/stable-diffusion-webui/launch.py\n",
        "!sed -i -e 's/checkout {commithash}/checkout --force {commithash}/g' /content/drive/MyDrive/stable-diffusion-webui-colab/nightly/stable-diffusion-webui/modules/launch_utils.py\n",
        "\n",
        "%cd /content/drive/MyDrive/stable-diffusion-webui-colab/nightly/stable-diffusion-webui\n",
        "!python launch.py --skip-torch-cuda-test\n",
        "\n",
        "print(\"Installed\")"
      ]
    },
    {
      "cell_type": "code",
      "source": [],
      "metadata": {
        "id": "v8I7sQEMma2h"
      },
      "execution_count": null,
      "outputs": []
    }
  ],
  "metadata": {
    "colab": {
      "private_outputs": true,
      "provenance": [],
      "include_colab_link": true
    },
    "gpuClass": "standard",
    "kernelspec": {
      "display_name": "Python 3",
      "name": "python3"
    },
    "language_info": {
      "name": "python"
    }
  },
  "nbformat": 4,
  "nbformat_minor": 0
}